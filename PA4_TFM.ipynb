{
 "cells": [
  {
   "cell_type": "markdown",
   "id": "618b8899",
   "metadata": {},
   "source": [
    "### PA 4 - CS150 - Fall 2023 - Version 4\n",
    "### Tess Montgomery"
   ]
  },
  {
   "cell_type": "markdown",
   "id": "830020db",
   "metadata": {},
   "source": [
    "### Task 1: Grade Calculator"
   ]
  },
  {
   "cell_type": "code",
   "execution_count": 20,
   "id": "10ccca36",
   "metadata": {},
   "outputs": [
    {
     "name": "stdout",
     "output_type": "stream",
     "text": [
      "75\n"
     ]
    }
   ],
   "source": [
    "grades=('97', '82', '75', '68', '54')\n",
    "print((97+82+75+68+54)//5)"
   ]
  },
  {
   "cell_type": "code",
   "execution_count": 21,
   "id": "9424f11b",
   "metadata": {},
   "outputs": [
    {
     "name": "stdout",
     "output_type": "stream",
     "text": [
      "Enter the grades from 97, 82, 75, 68, 54: 75\n",
      "The grade is C\n"
     ]
    }
   ],
   "source": [
    "grades=int(input(\"Enter the grades from 97, 82, 75, 68, 54: \"))\n",
    "\n",
    "if grades >=90 and grades <=100:\n",
    "    print('The grade is A')\n",
    "elif grades >=80 and grades <=89:\n",
    "    print('The grade is B')\n",
    "elif grades >=70 and grades <=79:\n",
    "    print('The grade is C')\n",
    "elif grades >=60 and grades <=69:\n",
    "    print('The grade is D')\n",
    "else:\n",
    "    print('The grade is F')"
   ]
  },
  {
   "cell_type": "markdown",
   "id": "62dc341c",
   "metadata": {},
   "source": [
    "### Task 2: Tuple Unpacking"
   ]
  },
  {
   "cell_type": "code",
   "execution_count": 27,
   "id": "f84eb0ce",
   "metadata": {},
   "outputs": [],
   "source": [
    "student=(\"Tess\", \"Montgomery\", 53, \"Programming\")\n",
    "first, last, age, subject=student"
   ]
  },
  {
   "cell_type": "code",
   "execution_count": 28,
   "id": "ad20cd06",
   "metadata": {},
   "outputs": [
    {
     "name": "stdout",
     "output_type": "stream",
     "text": [
      "The student is an adult.\n"
     ]
    }
   ],
   "source": [
    "if age >18:\n",
    "    print(\"The student is an adult.\")\n",
    "else:\n",
    "    print(\"The student is a minor.\")"
   ]
  },
  {
   "cell_type": "markdown",
   "id": "cbfd5467",
   "metadata": {},
   "source": [
    "### Task 3: Month and date (I did it 2 different ways - wasn't 100% sure what you were looking for)"
   ]
  },
  {
   "cell_type": "code",
   "execution_count": 44,
   "id": "8a8503ce",
   "metadata": {},
   "outputs": [
    {
     "name": "stdout",
     "output_type": "stream",
     "text": [
      "December has 31 days\n"
     ]
    }
   ],
   "source": [
    "months=('1', '2','3','4','5','6','7','8','9','10','11','12')\n",
    "if months==('1'):\n",
    "    print('January has 31 days')\n",
    "elif months==('2'):\n",
    "    print('February has 28 days')\n",
    "elif months==('3'):\n",
    "    print('March has 31 days')\n",
    "elif months==('4'):\n",
    "    print('April has 30 days')\n",
    "elif months==('5'):\n",
    "    print('May has 31 days')\n",
    "elif months==('6'):\n",
    "    print('June has 30 days')\n",
    "elif months==('7'):\n",
    "    print('July has 31 days')\n",
    "elif months==('8'):\n",
    "    print('August has 31 days')\n",
    "elif months==('9'):\n",
    "    print('September has 30 days')\n",
    "elif months==('10'):\n",
    "    print('October has 31 days')\n",
    "elif months==('11'):\n",
    "    print('November has 30 days')\n",
    "else:\n",
    "    print('December has 31 days')"
   ]
  },
  {
   "cell_type": "code",
   "execution_count": 6,
   "id": "959aa624",
   "metadata": {},
   "outputs": [
    {
     "name": "stdout",
     "output_type": "stream",
     "text": [
      "['January has 31 days', 'February has 28 days', 'March has 31 days', 'April has 30 days', 'May has 31 days', 'June has 30 days', 'July has 31 days', 'August has 31 days', 'September has 30 days', 'October has 31 days', 'November has 30 days', 'December has 31 days']\n"
     ]
    }
   ],
   "source": [
    "months=['1', '2','3','4','5','6','7','8','9','10','11','12']\n",
    "months[0]='January has 31 days'\n",
    "months[1]='February has 28 days'\n",
    "months[2]='March has 31 days'\n",
    "months[3]='April has 30 days'\n",
    "months[4]='May has 31 days'\n",
    "months[5]='June has 30 days'\n",
    "months[6]='July has 31 days'\n",
    "months[7]='August has 31 days'\n",
    "months[8]='September has 30 days'\n",
    "months[9]='October has 31 days'\n",
    "months[10]='November has 30 days'\n",
    "months[11]='December has 31 days'\n",
    "print(months)"
   ]
  },
  {
   "cell_type": "markdown",
   "id": "6dd84b17",
   "metadata": {},
   "source": [
    "### Task 4: Triangle"
   ]
  },
  {
   "cell_type": "code",
   "execution_count": 9,
   "id": "888166fc",
   "metadata": {},
   "outputs": [
    {
     "name": "stdout",
     "output_type": "stream",
     "text": [
      "The triangle is a scalene\n"
     ]
    }
   ],
   "source": [
    "triangle_sides=['10', '7', '5']\n",
    "if triangle_sides==['10','10','10']:\n",
    "    print(\"The triangle is an equilateral\")\n",
    "elif triangle_sides==['10','10','7']:\n",
    "    print(\"The triangle is an isosceles\")\n",
    "else:\n",
    "    print(\"The triangle is a scalene\")"
   ]
  },
  {
   "cell_type": "markdown",
   "id": "9e4434df",
   "metadata": {},
   "source": [
    "### Task 5: List Comprehension and Filtering"
   ]
  },
  {
   "cell_type": "code",
   "execution_count": 37,
   "id": "bd86491d",
   "metadata": {},
   "outputs": [
    {
     "name": "stdout",
     "output_type": "stream",
     "text": [
      "[21, 22, 23, 24, 25, 26, 27, 28, 29, 30, 31, 32, 33, 34, 35, 36, 37, 38, 39, 40]\n"
     ]
    }
   ],
   "source": [
    "numbers=list(range(21,41))\n",
    "print(numbers)"
   ]
  },
  {
   "cell_type": "code",
   "execution_count": 39,
   "id": "5866b686",
   "metadata": {},
   "outputs": [
    {
     "name": "stdout",
     "output_type": "stream",
     "text": [
      "[484, 576, 676, 784, 900, 1024, 1156, 1296, 1444, 1600]\n"
     ]
    }
   ],
   "source": [
    "even_squares = []\n",
    "for numbers in range(22,41,2):\n",
    "    square= numbers**2\n",
    "    even_squares.append(square)\n",
    "print(even_squares)"
   ]
  },
  {
   "cell_type": "code",
   "execution_count": 40,
   "id": "9f2278c8",
   "metadata": {},
   "outputs": [
    {
     "name": "stdout",
     "output_type": "stream",
     "text": [
      "[9261, 12167, 15625, 19683, 24389, 29791, 35937, 42875, 50653, 59319]\n"
     ]
    }
   ],
   "source": [
    "odd_cubes = []\n",
    "for numbers in range(21,40,2):\n",
    "    cube= numbers**3\n",
    "    odd_cubes.append(cube)\n",
    "print(odd_cubes)"
   ]
  }
 ],
 "metadata": {
  "kernelspec": {
   "display_name": "Python 3 (ipykernel)",
   "language": "python",
   "name": "python3"
  },
  "language_info": {
   "codemirror_mode": {
    "name": "ipython",
    "version": 3
   },
   "file_extension": ".py",
   "mimetype": "text/x-python",
   "name": "python",
   "nbconvert_exporter": "python",
   "pygments_lexer": "ipython3",
   "version": "3.11.5"
  }
 },
 "nbformat": 4,
 "nbformat_minor": 5
}
